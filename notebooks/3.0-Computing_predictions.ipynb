{
 "cells": [
  {
   "cell_type": "markdown",
   "metadata": {},
   "source": [
    "# Computing the predictions\n",
    "\n",
    "It's time to see how your net performs on unseen `test` data. We will divide the tutorial in 3 parts depending on whether you want to:\n",
    "* Predict filepaths contained in a [dataset split .txt file](#Predicting-a-datasplit-txt-file)\n",
    "* Predict [local images](#Predicting-local-files)\n",
    "* Predict [url images](#Predicting-image-urls)\n",
    "\n",
    "**Note** Parameters in UPPERCASE letters must be changed by the user if needed."
   ]
  },
  {
   "cell_type": "code",
   "execution_count": 1,
   "metadata": {},
   "outputs": [
    {
     "name": "stderr",
     "output_type": "stream",
     "text": [
      "WARNING: Logging before flag parsing goes to stderr.\n",
      "W0515 15:40:35.411699 140300539684672 deprecation.py:506] From /usr/local/lib/python3.6/dist-packages/tensorflow/python/ops/init_ops.py:97: calling GlorotUniform.__init__ (from tensorflow.python.ops.init_ops) with dtype is deprecated and will be removed in a future version.\n",
      "Instructions for updating:\n",
      "Call initializer instance with the dtype argument instead of passing it to the constructor\n",
      "W0515 15:40:35.418002 140300539684672 deprecation.py:506] From /usr/local/lib/python3.6/dist-packages/tensorflow/python/ops/init_ops.py:1251: calling VarianceScaling.__init__ (from tensorflow.python.ops.init_ops) with dtype is deprecated and will be removed in a future version.\n",
      "Instructions for updating:\n",
      "Call initializer instance with the dtype argument instead of passing it to the constructor\n",
      "W0515 15:40:35.423950 140300539684672 deprecation.py:506] From /usr/local/lib/python3.6/dist-packages/tensorflow/python/ops/init_ops.py:97: calling Zeros.__init__ (from tensorflow.python.ops.init_ops) with dtype is deprecated and will be removed in a future version.\n",
      "Instructions for updating:\n",
      "Call initializer instance with the dtype argument instead of passing it to the constructor\n",
      "W0515 15:40:35.443861 140300539684672 deprecation.py:506] From /usr/local/lib/python3.6/dist-packages/tensorflow/python/ops/init_ops.py:97: calling Ones.__init__ (from tensorflow.python.ops.init_ops) with dtype is deprecated and will be removed in a future version.\n",
      "Instructions for updating:\n",
      "Call initializer instance with the dtype argument instead of passing it to the constructor\n"
     ]
    },
    {
     "name": "stdout",
     "output_type": "stream",
     "text": [
      "Loading class names...\n"
     ]
    },
    {
     "name": "stderr",
     "output_type": "stream",
     "text": [
      "W0515 15:40:49.024723 140300539684672 hdf5_format.py:221] No training configuration found in save file: the model was *not* compiled. Compile it manually.\n"
     ]
    }
   ],
   "source": [
    "import os\n",
    "import json\n",
    "import numpy as np\n",
    "import matplotlib.pylab as plt\n",
    "\n",
    "from tensorflow.keras.models import load_model\n",
    "\n",
    "from imgclas.data_utils import load_image, load_data_splits, load_class_names\n",
    "from imgclas.test_utils import predict\n",
    "from imgclas import paths, plot_utils, utils\n",
    "\n",
    "# User parameters to set\n",
    "TIMESTAMP = '2020-05-14_163206'                       # timestamp of the model\n",
    "MODEL_NAME = 'final_model.h5'                           # model to use to make the prediction\n",
    "TOP_K = 5                                               # number of top classes predictions to save\n",
    "\n",
    "# Set the timestamp\n",
    "paths.timestamp = TIMESTAMP\n",
    "\n",
    "# Load the data\n",
    "class_names = load_class_names(splits_dir=paths.get_ts_splits_dir())\n",
    "\n",
    "# Load training configuration\n",
    "conf_path = os.path.join(paths.get_conf_dir(), 'conf.json')\n",
    "with open(conf_path) as f:\n",
    "    conf = json.load(f)\n",
    "    \n",
    "# Load the model\n",
    "model = load_model(os.path.join(paths.get_checkpoints_dir(), MODEL_NAME), custom_objects=utils.get_custom_objects())"
   ]
  },
  {
   "cell_type": "markdown",
   "metadata": {},
   "source": [
    "## Predicting a datasplit txt file\n",
    "\n",
    "Here we are going to compute the predictions and save them into a `.json` file to retireve them later. "
   ]
  },
  {
   "cell_type": "code",
   "execution_count": 2,
   "metadata": {},
   "outputs": [
    {
     "name": "stdout",
     "output_type": "stream",
     "text": [
      "Loading val data...\n",
      "1026/1026 [==============================] - 43s 42ms/step\n"
     ]
    }
   ],
   "source": [
    "SPLIT_NAME = 'val'                                         # data split to use\n",
    "# conf['general']['images_directory'] = '/media/ignacio/Datos/datasets/semillas/datasets/RJB'  # custom the absolute path to the images directory, if needed\n",
    "\n",
    "# Load the data\n",
    "X, y = load_data_splits(splits_dir=paths.get_ts_splits_dir(),\n",
    "                        im_dir=conf['general']['images_directory'],\n",
    "                        split_name=SPLIT_NAME)\n",
    "\n",
    "# Predict\n",
    "pred_lab, pred_prob = predict(model, X, conf, top_K=TOP_K, filemode='local')\n",
    "\n",
    "# Save the predictions\n",
    "pred_dict = {'filenames': list(X),\n",
    "             'pred_lab': pred_lab.tolist(),\n",
    "             'pred_prob': pred_prob.tolist()}\n",
    "if y is not None:\n",
    "    pred_dict['true_lab'] = y.tolist()\n",
    "\n",
    "pred_path = os.path.join(paths.get_predictions_dir(), '{}+{}+top{}.json'.format(MODEL_NAME, SPLIT_NAME, TOP_K))\n",
    "with open(pred_path, 'w') as outfile:\n",
    "    json.dump(pred_dict, outfile, sort_keys=True)"
   ]
  },
  {
   "cell_type": "code",
   "execution_count": null,
   "metadata": {},
   "outputs": [],
   "source": []
  }
 ],
 "metadata": {
  "kernelspec": {
   "display_name": "Python 3",
   "language": "python",
   "name": "python3"
  },
  "language_info": {
   "codemirror_mode": {
    "name": "ipython",
    "version": 3
   },
   "file_extension": ".py",
   "mimetype": "text/x-python",
   "name": "python",
   "nbconvert_exporter": "python",
   "pygments_lexer": "ipython3",
   "version": "3.6.8"
  }
 },
 "nbformat": 4,
 "nbformat_minor": 4
}
